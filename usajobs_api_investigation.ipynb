{
 "cells": [
  {
   "cell_type": "markdown",
   "metadata": {},
   "source": [
    "# USAJobs API Investigation: Missing Control Numbers\n",
    "\n",
    "This notebook investigates why certain control numbers (844807200 and 845022800) may or may not appear in the current USAJobs API results for occupational series 0560.\n",
    "\n",
    "## Setup and Imports"
   ]
  },
  {
   "cell_type": "code",
   "execution_count": null,
   "metadata": {},
   "outputs": [],
   "source": [
    "import requests\n",
    "import pandas as pd\n",
    "import os\n",
    "import json\n",
    "import time\n",
    "from datetime import datetime\n",
    "from dotenv import load_dotenv\n",
    "\n",
    "# Load environment variables\n",
    "load_dotenv()\n",
    "\n",
    "# Verify API key is available\n",
    "api_key = os.getenv('USAJOBS_API_TOKEN')\n",
    "if not api_key:\n",
    "    raise ValueError('API key required. Set USAJOBS_API_TOKEN environment variable')\n",
    "\n",
    "print(f\"API key loaded: {'Yes' if api_key else 'No'}\")\n",
    "print(f\"Current date: {datetime.now().strftime('%Y-%m-%d %H:%M:%S')}\")"
   ]
  },
  {
   "cell_type": "markdown",
   "metadata": {},
   "source": [
    "## 1. Define API Connection and Helper Functions"
   ]
  },
  {
   "cell_type": "code",
   "execution_count": null,
   "metadata": {},
   "outputs": [],
   "source": [
    "# API Configuration\n",
    "BASE_URL = 'https://data.usajobs.gov/api/Search'\n",
    "\n",
    "# Headers required by USAJobs API\n",
    "headers = {\n",
    "    'Host': 'data.usajobs.gov',\n",
    "    'Authorization-Key': api_key\n",
    "}\n",
    "\n",
    "def flatten_job(job_item):\n",
    "    \"\"\"Extract key fields from a job posting\"\"\"\n",
    "    job = job_item.get('MatchedObjectDescriptor', {})\n",
    "    user_area = job.get('UserArea', {}).get('Details', {})\n",
    "    \n",
    "    # Extract numeric control number from PositionURI\n",
    "    position_uri = job.get('PositionURI', '')\n",
    "    numeric_control_number = None\n",
    "    if position_uri and '/job/' in position_uri:\n",
    "        try:\n",
    "            numeric_control_number = position_uri.split('/job/')[-1]\n",
    "        except:\n",
    "            pass\n",
    "    \n",
    "    return {\n",
    "        'usajobs_control_number': numeric_control_number,\n",
    "        'position_id': job.get('PositionID'),\n",
    "        'position_title': job.get('PositionTitle'),\n",
    "        'department_name': job.get('DepartmentName'),\n",
    "        'organization_name': job.get('OrganizationName'),\n",
    "        'position_location_display': job.get('PositionLocationDisplay'),\n",
    "        'position_start_date': job.get('PositionStartDate'),\n",
    "        'position_end_date': job.get('PositionEndDate'),\n",
    "        'publication_start_date': job.get('PublicationStartDate'),\n",
    "        'application_close_date': job.get('ApplicationCloseDate'),\n",
    "        'position_uri': position_uri,\n",
    "        'low_grade': user_area.get('LowGrade'),\n",
    "        'high_grade': user_area.get('HighGrade'),\n",
    "        'service_type': user_area.get('ServiceType')\n",
    "    }"
   ]
  },
  {
   "cell_type": "markdown",
   "metadata": {},
   "source": [
    "## 2. Fetch Current Jobs for Series 0560\n",
    "\n",
    "We'll fetch all current job postings for occupational series 0560 (Budget Analysis) using pagination."
   ]
  },
  {
   "cell_type": "code",
   "execution_count": null,
   "metadata": {},
   "outputs": [],
   "source": [
    "# Target control numbers we're searching for\n",
    "TARGET_CONTROL_NUMBERS = ['844807200', '845022800']\n",
    "\n",
    "# Parameters for the API request\n",
    "params = {\n",
    "    'JobCategoryCode': '0560',  # Budget Analysis series\n",
    "    'ResultsPerPage': 25        # API pagination size\n",
    "}\n",
    "\n",
    "all_jobs = []\n",
    "flattened_jobs = []\n",
    "page = 1\n",
    "\n",
    "print(f\"Fetching jobs for series 0560...\")\n",
    "print(f\"Looking for control numbers: {', '.join(TARGET_CONTROL_NUMBERS)}\")\n",
    "print(\"=\"*50)\n",
    "\n",
    "while True:\n",
    "    params['Page'] = page\n",
    "    \n",
    "    try:\n",
    "        response = requests.get(BASE_URL, headers=headers, params=params, timeout=120)\n",
    "        response.raise_for_status()\n",
    "        data = response.json()\n",
    "        \n",
    "        search_result = data.get('SearchResult', {})\n",
    "        items = search_result.get('SearchResultItems', [])\n",
    "        \n",
    "        if not items:\n",
    "            print(f\"No more results at page {page}\")\n",
    "            break\n",
    "        \n",
    "        # Process each job\n",
    "        for item in items:\n",
    "            all_jobs.append(item)\n",
    "            flattened_jobs.append(flatten_job(item))\n",
    "        \n",
    "        # Get total count on first page\n",
    "        if page == 1:\n",
    "            total_count = search_result.get('SearchResultCountAll', 0)\n",
    "            print(f\"Total jobs available: {total_count}\")\n",
    "        \n",
    "        print(f\"Page {page}: fetched {len(items)} jobs (total so far: {len(all_jobs)})\")\n",
    "        \n",
    "        page += 1\n",
    "        time.sleep(0.5)  # Be nice to the API\n",
    "        \n",
    "    except Exception as e:\n",
    "        print(f\"Error on page {page}: {e}\")\n",
    "        break\n",
    "\n",
    "print(f\"\\nTotal jobs fetched: {len(all_jobs)}\")"
   ]
  },
  {
   "cell_type": "markdown",
   "metadata": {},
   "source": [
    "## 3. Convert to DataFrame and Analyze"
   ]
  },
  {
   "cell_type": "code",
   "execution_count": null,
   "metadata": {},
   "outputs": [],
   "source": [
    "# Create DataFrame from flattened jobs\n",
    "df = pd.DataFrame(flattened_jobs)\n",
    "\n",
    "print(f\"DataFrame created with {len(df)} jobs\")\n",
    "print(f\"\\nColumns: {', '.join(df.columns)}\")\n",
    "\n",
    "# Display first few jobs\n",
    "print(\"\\nFirst 5 jobs:\")\n",
    "df[['usajobs_control_number', 'position_title', 'department_name']].head()"
   ]
  },
  {
   "cell_type": "markdown",
   "metadata": {},
   "source": [
    "## 4. Search for Target Control Numbers"
   ]
  },
  {
   "cell_type": "code",
   "execution_count": null,
   "metadata": {},
   "outputs": [],
   "source": [
    "# Search for each target control number\n",
    "print(\"SEARCH RESULTS:\")\n",
    "print(\"=\" * 50)\n",
    "\n",
    "for cn in TARGET_CONTROL_NUMBERS:\n",
    "    matches = df[df['usajobs_control_number'] == cn]\n",
    "    \n",
    "    if not matches.empty:\n",
    "        print(f\"\\n✅ FOUND Control Number: {cn}\")\n",
    "        for idx, row in matches.iterrows():\n",
    "            print(f\"   Title: {row['position_title']}\")\n",
    "            print(f\"   Agency: {row['department_name']}\")\n",
    "            print(f\"   Location: {row['position_location_display']}\")\n",
    "            print(f\"   Grade: {row['low_grade']}-{row['high_grade']}\")\n",
    "            print(f\"   Open Date: {row['position_start_date']}\")\n",
    "            print(f\"   Close Date: {row['position_end_date']}\")\n",
    "    else:\n",
    "        print(f\"\\n❌ NOT FOUND Control Number: {cn}\")"
   ]
  },
  {
   "cell_type": "markdown",
   "metadata": {},
   "source": [
    "## 5. Show All Control Numbers in Series 0560"
   ]
  },
  {
   "cell_type": "code",
   "execution_count": null,
   "metadata": {},
   "outputs": [],
   "source": [
    "# Display all control numbers found\n",
    "all_control_numbers = sorted(df['usajobs_control_number'].unique())\n",
    "\n",
    "print(f\"All {len(all_control_numbers)} control numbers in series 0560:\")\n",
    "print(\"=\" * 50)\n",
    "\n",
    "for i, cn in enumerate(all_control_numbers, 1):\n",
    "    print(f\"{i:3d}. {cn}\")"
   ]
  },
  {
   "cell_type": "markdown",
   "metadata": {},
   "source": [
    "## 6. Analysis: Where Do Missing Numbers Fall?"
   ]
  },
  {
   "cell_type": "code",
   "execution_count": null,
   "metadata": {},
   "outputs": [],
   "source": [
    "# Convert control numbers to integers for analysis\n",
    "control_nums_int = [int(x) for x in all_control_numbers]\n",
    "\n",
    "print(\"NUMERICAL ANALYSIS:\")\n",
    "print(\"=\" * 50)\n",
    "print(f\"\\nRange of control numbers in series 0560:\")\n",
    "print(f\"  Minimum: {min(control_nums_int):,}\")\n",
    "print(f\"  Maximum: {max(control_nums_int):,}\")\n",
    "\n",
    "# Check where our target numbers would fall\n",
    "for cn in TARGET_CONTROL_NUMBERS:\n",
    "    cn_int = int(cn)\n",
    "    \n",
    "    if cn in all_control_numbers:\n",
    "        position = all_control_numbers.index(cn) + 1\n",
    "        print(f\"\\n{cn}: FOUND at position {position} of {len(all_control_numbers)}\")\n",
    "    else:\n",
    "        # Find where it would be inserted\n",
    "        smaller = [x for x in control_nums_int if x < cn_int]\n",
    "        larger = [x for x in control_nums_int if x > cn_int]\n",
    "        \n",
    "        print(f\"\\n{cn}: NOT FOUND\")\n",
    "        if smaller:\n",
    "            print(f\"  Would fall after: {max(smaller):,}\")\n",
    "        if larger:\n",
    "            print(f\"  Would fall before: {min(larger):,}\")\n",
    "        \n",
    "        # Find closest number\n",
    "        closest = min(control_nums_int, key=lambda x: abs(x - cn_int))\n",
    "        print(f\"  Closest number: {closest:,} (difference: {abs(closest - cn_int):,})\")"
   ]
  },
  {
   "cell_type": "markdown",
   "metadata": {},
   "source": [
    "## 7. Check If Numbers Exist in Other Series\n",
    "\n",
    "Let's search for these control numbers across all occupational series to see if they exist elsewhere."
   ]
  },
  {
   "cell_type": "code",
   "execution_count": null,
   "metadata": {},
   "outputs": [],
   "source": [
    "# Search for the missing control number across all series\n",
    "missing_number = '845022800'  # The one not found in 0560\n",
    "\n",
    "print(f\"Searching for {missing_number} across all occupational series...\")\n",
    "print(\"=\" * 50)\n",
    "\n",
    "# Search by the control number directly\n",
    "search_params = {\n",
    "    'Keyword': missing_number,\n",
    "    'ResultsPerPage': 10\n",
    "}\n",
    "\n",
    "try:\n",
    "    response = requests.get(BASE_URL, headers=headers, params=search_params, timeout=120)\n",
    "    response.raise_for_status()\n",
    "    data = response.json()\n",
    "    \n",
    "    search_result = data.get('SearchResult', {})\n",
    "    total_found = search_result.get('SearchResultCountAll', 0)\n",
    "    items = search_result.get('SearchResultItems', [])\n",
    "    \n",
    "    print(f\"\\nResults found: {total_found}\")\n",
    "    \n",
    "    if items:\n",
    "        for item in items:\n",
    "            job = item.get('MatchedObjectDescriptor', {})\n",
    "            uri = job.get('PositionURI', '')\n",
    "            job_id = uri.split('/job/')[-1] if '/job/' in uri else 'Unknown'\n",
    "            \n",
    "            if job_id == missing_number:\n",
    "                print(f\"\\n✅ FOUND {missing_number}!\")\n",
    "                print(f\"  Title: {job.get('PositionTitle', 'N/A')}\")\n",
    "                print(f\"  Agency: {job.get('DepartmentName', 'N/A')}\")\n",
    "                print(f\"  Series: {job.get('JobCategory', [{}])[0].get('Code', 'Unknown') if job.get('JobCategory') else 'Unknown'}\")\n",
    "                print(f\"  URI: {uri}\")\n",
    "    else:\n",
    "        print(f\"\\n❌ Control number {missing_number} not found in any current job postings\")\n",
    "        \n",
    "except Exception as e:\n",
    "    print(f\"Error searching: {e}\")"
   ]
  },
  {
   "cell_type": "markdown",
   "metadata": {},
   "source": [
    "## 8. Summary and Conclusions"
   ]
  },
  {
   "cell_type": "code",
   "execution_count": null,
   "metadata": {},
   "outputs": [],
   "source": [
    "print(\"INVESTIGATION SUMMARY\")\n",
    "print(\"=\" * 50)\n",
    "\n",
    "print(f\"\\n1. Total current jobs in series 0560: {len(df)}\")\n",
    "\n",
    "print(f\"\\n2. Target control numbers:\")\n",
    "for cn in TARGET_CONTROL_NUMBERS:\n",
    "    status = \"FOUND\" if cn in all_control_numbers else \"NOT FOUND\"\n",
    "    print(f\"   - {cn}: {status}\")\n",
    "\n",
    "print(f\"\\n3. Possible reasons for missing control numbers:\")\n",
    "print(\"   - Job belongs to a different occupational series\")\n",
    "print(\"   - Job posting has been closed/expired\")\n",
    "print(\"   - Job was cancelled before posting\")\n",
    "print(\"   - Control number is from a different time period\")\n",
    "print(\"   - Job is in a different API endpoint (e.g., archived jobs)\")\n",
    "\n",
    "# Save results for reference\n",
    "df.to_csv('0560_series_investigation.csv', index=False)\n",
    "print(f\"\\n4. Results saved to: 0560_series_investigation.csv\")"
   ]
  }
 ],
 "metadata": {
  "kernelspec": {
   "display_name": "Python 3",
   "language": "python",
   "name": "python3"
  },
  "language_info": {
   "codemirror_mode": {
    "name": "ipython",
    "version": 3
   },
   "file_extension": ".py",
   "mimetype": "text/x-python",
   "name": "python",
   "nbconvert_exporter": "python",
   "pygments_lexer": "ipython3",
   "version": "3.8.0"
  }
 },
 "nbformat": 4,
 "nbformat_minor": 4
}