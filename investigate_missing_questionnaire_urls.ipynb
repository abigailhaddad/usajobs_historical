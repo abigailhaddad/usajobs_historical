{
 "cells": [
  {
   "cell_type": "markdown",
   "metadata": {},
   "source": [
    "# Investigation: Missing Monster Questionnaire URLs in USAJobs API\n",
    "\n",
    "This notebook investigates why certain jobs (like control number 845022800) don't have Monster questionnaire URLs in the USAJobs API response, even though they use Monster for applications.\n",
    "\n",
    "## Setup"
   ]
  },
  {
   "cell_type": "code",
   "execution_count": null,
   "metadata": {},
   "outputs": [],
   "source": [
    "import requests\n",
    "import json\n",
    "import pandas as pd\n",
    "import os\n",
    "from dotenv import load_dotenv\n",
    "from datetime import datetime\n",
    "\n",
    "# Load environment variables\n",
    "load_dotenv()\n",
    "\n",
    "# API setup\n",
    "api_key = os.getenv('USAJOBS_API_TOKEN')\n",
    "if not api_key:\n",
    "    raise ValueError('API key required. Set USAJOBS_API_TOKEN environment variable')\n",
    "\n",
    "headers = {\n",
    "    'Host': 'data.usajobs.gov',\n",
    "    'Authorization-Key': api_key\n",
    "}\n",
    "\n",
    "print(f\"API configured at {datetime.now()}\")"
   ]
  },
  {
   "cell_type": "markdown",
   "metadata": {},
   "source": "## 1. Search for All Series 0560 Jobs\n\nFirst, let's fetch all current 0560 series jobs and then find our specific job."
  },
  {
   "cell_type": "code",
   "execution_count": null,
   "metadata": {},
   "outputs": [],
   "source": "# Search for all 0560 series jobs\ntarget_control_number = '844807200'  # The one we're looking for\nBASE_URL = 'https://data.usajobs.gov/api/Search'\n\n# Search for series 0560\nparams = {\n    'JobCategoryCode': '0560',\n    'ResultsPerPage': 500  # Get all in one request\n}\n\nprint(f\"Searching for all series 0560 jobs...\")\nresponse = requests.get(BASE_URL, headers=headers, params=params)\n\nif response.status_code == 200:\n    data = response.json()\n    count = data['SearchResult']['SearchResultCount']\n    items = data['SearchResult']['SearchResultItems']\n    \n    print(f\"\\nTotal 0560 jobs found: {count}\")\n    print(f\"Items returned: {len(items)}\")\n    \n    # Look for our specific job\n    target_job = None\n    \n    for job in items:\n        descriptor = job['MatchedObjectDescriptor']\n        position_uri = descriptor.get('PositionURI', '')\n        \n        if '/job/' in position_uri:\n            job_id = position_uri.split('/job/')[-1]\n            if job_id == target_control_number:\n                target_job = job\n                break\n    \n    if target_job:\n        descriptor = target_job['MatchedObjectDescriptor']\n        print(f\"\\n✅ Found target job {target_control_number}:\")\n        print(f\"  Position ID: {descriptor.get('PositionID')}\")\n        print(f\"  Title: {descriptor.get('PositionTitle')}\")\n        print(f\"  Agency: {descriptor.get('DepartmentName')}\")\n        print(f\"  Location: {descriptor.get('PositionLocationDisplay')}\")\n        print(f\"  Position URI: {descriptor.get('PositionURI')}\")\n        print(f\"  Apply URI: {descriptor.get('ApplyURI')}\")\n        \n        # Save for later analysis\n        target_descriptor = descriptor\n        target_job_full = target_job\n    else:\n        print(f\"\\n❌ Job {target_control_number} not found in 0560 series\")\n        print(\"\\nFirst few jobs found:\")\n        for i, job in enumerate(items[:5]):\n            desc = job['MatchedObjectDescriptor']\n            uri = desc.get('PositionURI', '')\n            job_id = uri.split('/job/')[-1] if '/job/' in uri else 'Unknown'\n            print(f\"  {job_id}: {desc.get('PositionTitle')}\")\nelse:\n    print(f\"Error: {response.status_code}\")"
  },
  {
   "cell_type": "markdown",
   "metadata": {},
   "source": [
    "## 2. Display Full API Response\n",
    "\n",
    "Let's examine the complete API response to see all available fields."
   ]
  },
  {
   "cell_type": "code",
   "execution_count": null,
   "metadata": {},
   "outputs": [],
   "source": "if 'target_descriptor' in locals():\n    # Pretty print the full MatchedObjectDescriptor\n    print(\"Full MatchedObjectDescriptor JSON for job 844807200:\")\n    print(\"=\" * 80)\n    print(json.dumps(target_descriptor, indent=2))\nelse:\n    print(\"Target job not found - cannot display descriptor\")"
  },
  {
   "cell_type": "markdown",
   "metadata": {},
   "source": [
    "## 3. Check UserArea for Hidden URLs\n",
    "\n",
    "Sometimes additional URLs are stored in the UserArea section."
   ]
  },
  {
   "cell_type": "code",
   "execution_count": null,
   "metadata": {},
   "outputs": [],
   "source": [
    "if count > 0:\n",
    "    user_area = descriptor.get('UserArea', {})\n",
    "    details = user_area.get('Details', {})\n",
    "    \n",
    "    print(\"UserArea.Details content:\")\n",
    "    print(\"=\" * 80)\n",
    "    print(json.dumps(details, indent=2))\n",
    "    \n",
    "    # Search for any URLs in the details\n",
    "    print(\"\\n\" + \"=\" * 80)\n",
    "    print(\"Searching for URLs in UserArea...\")\n",
    "    \n",
    "    def find_urls(obj, path=''):\n",
    "        urls_found = []\n",
    "        if isinstance(obj, dict):\n",
    "            for k, v in obj.items():\n",
    "                if isinstance(v, str) and 'http' in v:\n",
    "                    urls_found.append((f\"{path}.{k}\", v))\n",
    "                elif isinstance(v, (dict, list)):\n",
    "                    urls_found.extend(find_urls(v, f\"{path}.{k}\"))\n",
    "        elif isinstance(obj, list):\n",
    "            for i, item in enumerate(obj):\n",
    "                urls_found.extend(find_urls(item, f\"{path}[{i}]\"))\n",
    "        return urls_found\n",
    "    \n",
    "    urls = find_urls(details, 'UserArea.Details')\n",
    "    \n",
    "    if urls:\n",
    "        print(\"\\nURLs found:\")\n",
    "        for path, url in urls:\n",
    "            print(f\"  {path}: {url}\")\n",
    "    else:\n",
    "        print(\"\\nNo URLs found in UserArea.Details\")"
   ]
  },
  {
   "cell_type": "markdown",
   "metadata": {},
   "source": [
    "## 4. Compare with Jobs That DO Have Monster URLs\n",
    "\n",
    "Let's find a job that has a Monster URL and compare the structure."
   ]
  },
  {
   "cell_type": "code",
   "execution_count": null,
   "metadata": {},
   "outputs": [],
   "source": [
    "# Load the current jobs data\n",
    "print(\"Loading current jobs data to find examples with Monster URLs...\")\n",
    "df = pd.read_parquet('data/current_jobs_2025.parquet')\n",
    "\n",
    "# Find jobs with Monster URLs\n",
    "monster_jobs = []\n",
    "for idx, row in df.head(1000).iterrows():  # Check first 1000 for efficiency\n",
    "    if 'MatchedObjectDescriptor' in row and pd.notna(row['MatchedObjectDescriptor']):\n",
    "        if 'monstergovt.com' in str(row['MatchedObjectDescriptor']):\n",
    "            monster_jobs.append(row)\n",
    "            if len(monster_jobs) >= 3:  # Get 3 examples\n",
    "                break\n",
    "\n",
    "print(f\"\\nFound {len(monster_jobs)} examples with Monster URLs\")\n",
    "\n",
    "if monster_jobs:\n",
    "    # Show first example\n",
    "    example = monster_jobs[0]\n",
    "    descriptor = json.loads(example['MatchedObjectDescriptor'])\n",
    "    \n",
    "    print(f\"\\nExample job WITH Monster URL:\")\n",
    "    print(f\"  Control Number: {example['usajobs_control_number']}\")\n",
    "    print(f\"  Title: {example.get('positionTitle', 'N/A')}\")\n",
    "    print(f\"  Agency: {example.get('hiringAgencyName', 'N/A')}\")\n",
    "    print(f\"  ApplyURI: {descriptor.get('ApplyURI')}\")\n",
    "    \n",
    "    # Look for the Monster URL\n",
    "    apply_uris = descriptor.get('ApplyURI', [])\n",
    "    for uri in apply_uris:\n",
    "        if 'monstergovt.com' in uri:\n",
    "            print(f\"\\n  🎯 Monster URL found: {uri}\")"
   ]
  },
  {
   "cell_type": "markdown",
   "metadata": {},
   "source": [
    "## 5. Direct API Call for Job Details\n",
    "\n",
    "Let's try to get the job details using different API endpoints or parameters."
   ]
  },
  {
   "cell_type": "code",
   "execution_count": null,
   "metadata": {},
   "outputs": [],
   "source": [
    "# Try searching by Position ID instead\n",
    "position_id = 'WAS-2025-0025'  # From the earlier search\n",
    "\n",
    "params = {\n",
    "    'PositionID': position_id,\n",
    "    'ResultsPerPage': 10\n",
    "}\n",
    "\n",
    "print(f\"Searching by Position ID: {position_id}\")\n",
    "response = requests.get(BASE_URL, headers=headers, params=params)\n",
    "\n",
    "if response.status_code == 200:\n",
    "    data = response.json()\n",
    "    count = data['SearchResult']['SearchResultCount']\n",
    "    print(f\"Results found: {count}\")\n",
    "    \n",
    "    if count > 0:\n",
    "        # Check ApplyURI in all results\n",
    "        for i, item in enumerate(data['SearchResult']['SearchResultItems']):\n",
    "            desc = item['MatchedObjectDescriptor']\n",
    "            apply_uri = desc.get('ApplyURI', [])\n",
    "            print(f\"\\nResult {i+1}:\")\n",
    "            print(f\"  Position ID: {desc.get('PositionID')}\")\n",
    "            print(f\"  Apply URI: {apply_uri}\")"
   ]
  },
  {
   "cell_type": "markdown",
   "metadata": {},
   "source": [
    "## 6. Analysis: Why Are Monster URLs Missing?\n",
    "\n",
    "Let's analyze the pattern of missing URLs."
   ]
  },
  {
   "cell_type": "code",
   "execution_count": null,
   "metadata": {},
   "outputs": [],
   "source": [
    "# Check how many jobs have questionnaire URLs\n",
    "print(\"Analyzing questionnaire URL patterns in current jobs...\")\n",
    "\n",
    "total_jobs = len(df)\n",
    "has_questionnaire = 0\n",
    "has_monster = 0\n",
    "has_usastaffing = 0\n",
    "only_usajobs = 0\n",
    "\n",
    "for idx, row in df.iterrows():\n",
    "    if 'MatchedObjectDescriptor' in row and pd.notna(row['MatchedObjectDescriptor']):\n",
    "        try:\n",
    "            descriptor = json.loads(row['MatchedObjectDescriptor'])\n",
    "            apply_uris = descriptor.get('ApplyURI', [])\n",
    "            \n",
    "            # Convert to list if string\n",
    "            if isinstance(apply_uris, str):\n",
    "                apply_uris = [apply_uris]\n",
    "            \n",
    "            uri_str = ' '.join(str(uri) for uri in apply_uris)\n",
    "            \n",
    "            if 'ViewQuestionnaire' in uri_str or 'previewVacancyQuestions' in uri_str:\n",
    "                has_questionnaire += 1\n",
    "                \n",
    "                if 'monstergovt.com' in uri_str:\n",
    "                    has_monster += 1\n",
    "                elif 'usastaffing.gov' in uri_str:\n",
    "                    has_usastaffing += 1\n",
    "            elif apply_uris and all('usajobs.gov' in str(uri) for uri in apply_uris):\n",
    "                only_usajobs += 1\n",
    "        except:\n",
    "            pass\n",
    "\n",
    "print(f\"\\nResults:\")\n",
    "print(f\"Total jobs: {total_jobs:,}\")\n",
    "print(f\"Jobs with questionnaire URLs: {has_questionnaire:,} ({has_questionnaire/total_jobs*100:.1f}%)\")\n",
    "print(f\"  - Monster questionnaires: {has_monster:,}\")\n",
    "print(f\"  - USAStaffing questionnaires: {has_usastaffing:,}\")\n",
    "print(f\"Jobs with only USAJobs URL: {only_usajobs:,} ({only_usajobs/total_jobs*100:.1f}%)\")\n",
    "print(f\"\\nMissing questionnaire URLs: {only_usajobs:,} jobs\")"
   ]
  },
  {
   "cell_type": "markdown",
   "metadata": {},
   "source": [
    "## 7. Conclusion\n",
    "\n",
    "This investigation shows that the USAJobs API is not providing Monster questionnaire URLs for certain jobs, even though these jobs use Monster for their application process.\n",
    "\n",
    "Key findings:\n",
    "1. Job 845022800 only returns `https://www.usajobs.gov:443/job/845022800` in ApplyURI\n",
    "2. The actual questionnaire URL `https://jobs.monstergovt.com/bopmp/vacancy/previewVacancyQuestions.hms?orgId=2&jnum=178332` is not provided by the API\n",
    "3. This affects thousands of jobs that only show USAJobs URLs despite using external application systems\n",
    "\n",
    "This is a limitation of the USAJobs API that prevents complete questionnaire collection."
   ]
  }
 ],
 "metadata": {
  "kernelspec": {
   "display_name": "Python 3",
   "language": "python",
   "name": "python3"
  },
  "language_info": {
   "codemirror_mode": {
    "name": "ipython",
    "version": 3
   },
   "file_extension": ".py",
   "mimetype": "text/x-python",
   "name": "python",
   "nbconvert_exporter": "python",
   "pygments_lexer": "ipython3",
   "version": "3.8.0"
  }
 },
 "nbformat": 4,
 "nbformat_minor": 4
}